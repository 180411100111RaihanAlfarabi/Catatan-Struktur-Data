{
 "cells": [
  {
   "cell_type": "code",
   "execution_count": 3,
   "metadata": {},
   "outputs": [
    {
     "ename": "SyntaxError",
     "evalue": "invalid syntax (<ipython-input-3-14def6558530>, line 30)",
     "output_type": "error",
     "traceback": [
      "\u001b[1;36m  File \u001b[1;32m\"<ipython-input-3-14def6558530>\"\u001b[1;36m, line \u001b[1;32m30\u001b[0m\n\u001b[1;33m    elif token=='(':\u001b[0m\n\u001b[1;37m       ^\u001b[0m\n\u001b[1;31mSyntaxError\u001b[0m\u001b[1;31m:\u001b[0m invalid syntax\n"
     ]
    }
   ],
   "source": [
    "class Stack:\n",
    "    def __init__(self):\n",
    "        self.items=[]\n",
    "    def isEmpty(self):\n",
    "        return self.items==[]\n",
    "    def push(self,items):\n",
    "        self.items.append(items)\n",
    "    def pop(self):\n",
    "        return self.items.pop()\n",
    "    def peek(self):\n",
    "        return self.items[len(self.items)-1]\n",
    "    def size(self):\n",
    "        return len(self.items)\n",
    "    def showList(self):\n",
    "        return self.items\n",
    "\n",
    "def infixToPostfix(infixexpr):\n",
    "    prec={}\n",
    "    prec[\"a\"]=3\n",
    "    prec[\"/\"]=3\n",
    "    prec[\"+\"]=2\n",
    "    prec[\"-\"]=2\n",
    "    prec[\"(\"]=1\n",
    "    opStack=Stack()\n",
    "    postfixList=[]\n",
    "    tokenList=infixexpr.split()\n",
    "    for token in tokenList:\n",
    "        if token in \"ABCDEFGHIJKLMNOPQRSTUVWXYZ\" or token in \"0123456789\":\n",
    "            postfixList.append(token)\n",
    "            elif token=='(':\n",
    "                opStack.push(token)\n",
    "            elif token==')':\n",
    "                topToken=opStack.pop()\n",
    "                while topToken !='(':\n",
    "                    postfixList.append(topToken)\n",
    "                    topToken=opStack.pop()\n",
    "            else:\n",
    "                while(not opStack.isEmpty())and(prec[opStack.peek()]>=prec[token]):\n",
    "                    postfixList.append(opStack.pop())\n",
    "                opStack.push(token)\n",
    "    while not opStack.isEmpty():\n",
    "        postfixList.append(opStack.pop())\n",
    "    return\"\".join(postfixList)\n",
    "print(infixToPostfix(\"A*B+C*D\"))\n",
    "print(infixToPostfix(\"(A+B)*C-(D-E)*(F+G)\"))"
   ]
  },
  {
   "cell_type": "code",
   "execution_count": null,
   "metadata": {},
   "outputs": [],
   "source": [
    "\n",
    "def postfixEval(postfixExpr):\n",
    "    operandStack=Stack()\n",
    "    tokenList=postfixExpr.split()\n",
    "    \n",
    "    for token in tokenList:\n",
    "        if token in \"0123456789\":\n",
    "            operandStack.push(int(token))\n",
    "        else:\n",
    "            operand2=operandStack.pop()\n",
    "            operand1=operandStack.pop()\n",
    "            result=doMath(token,operand1,operand2)\n",
    "            operandStack.push(result)\n",
    "        return operandStack.pop()\n",
    "def doMath(op,op1,op2):\n",
    "    if op==\"*\":\n",
    "        return op1*op2\n",
    "    elif op==\"/\":\n",
    "        return op1/op2\n",
    "    elif op==\"+\":\n",
    "        return op1+op2\n",
    "    else:\n",
    "        return op1-op2\n",
    "print"
   ]
  }
 ],
 "metadata": {
  "kernelspec": {
   "display_name": "Python 3",
   "language": "python",
   "name": "python3"
  },
  "language_info": {
   "codemirror_mode": {
    "name": "ipython",
    "version": 3
   },
   "file_extension": ".py",
   "mimetype": "text/x-python",
   "name": "python",
   "nbconvert_exporter": "python",
   "pygments_lexer": "ipython3",
   "version": "3.6.5"
  }
 },
 "nbformat": 4,
 "nbformat_minor": 2
}
