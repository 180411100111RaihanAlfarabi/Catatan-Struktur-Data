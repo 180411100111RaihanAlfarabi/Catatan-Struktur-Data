{
 "cells": [
  {
   "cell_type": "code",
   "execution_count": 2,
   "metadata": {},
   "outputs": [
    {
     "name": "stdout",
     "output_type": "stream",
     "text": [
      "Did not find the search number.\n"
     ]
    }
   ],
   "source": [
    "search= 2\n",
    "mylist= [1,2,3,4,5,6]\n",
    "position= len(mylist)-1\n",
    "last=0\n",
    "found=False\n",
    "while position<=last and not found:\n",
    "    if mylist[position]==search:\n",
    "        found=True\n",
    "    else:\n",
    "        position=position+1\n",
    "if found:\n",
    "    print (\"Found the seacrh number.\")\n",
    "    print (position)\n",
    "else:\n",
    "    print (\"Did not find the search number.\")"
   ]
  },
  {
   "cell_type": "code",
   "execution_count": 13,
   "metadata": {},
   "outputs": [
    {
     "ename": "TypeError",
     "evalue": "'int' object is not iterable",
     "output_type": "error",
     "traceback": [
      "\u001b[1;31m---------------------------------------------------------------------------\u001b[0m",
      "\u001b[1;31mTypeError\u001b[0m                                 Traceback (most recent call last)",
      "\u001b[1;32m<ipython-input-13-33969bc9bfba>\u001b[0m in \u001b[0;36m<module>\u001b[1;34m()\u001b[0m\n\u001b[0;32m      4\u001b[0m \u001b[0mlast\u001b[0m\u001b[1;33m=\u001b[0m\u001b[1;36m0\u001b[0m\u001b[1;33m\u001b[0m\u001b[0m\n\u001b[0;32m      5\u001b[0m \u001b[0mfound\u001b[0m\u001b[1;33m=\u001b[0m\u001b[1;32mFalse\u001b[0m\u001b[1;33m\u001b[0m\u001b[0m\n\u001b[1;32m----> 6\u001b[1;33m \u001b[1;32mfor\u001b[0m \u001b[0mi\u001b[0m \u001b[1;32min\u001b[0m \u001b[0mlen\u001b[0m\u001b[1;33m(\u001b[0m\u001b[0mmylist\u001b[0m\u001b[1;33m)\u001b[0m\u001b[1;33m+\u001b[0m\u001b[1;36m1\u001b[0m\u001b[1;33m:\u001b[0m\u001b[1;33m\u001b[0m\u001b[0m\n\u001b[0m\u001b[0;32m      7\u001b[0m     \u001b[1;32mif\u001b[0m \u001b[0mmylist\u001b[0m\u001b[1;33m[\u001b[0m\u001b[0mposition\u001b[0m\u001b[1;33m]\u001b[0m\u001b[1;33m==\u001b[0m\u001b[0msearch\u001b[0m\u001b[1;33m:\u001b[0m\u001b[1;33m\u001b[0m\u001b[0m\n\u001b[0;32m      8\u001b[0m         \u001b[0mfound\u001b[0m\u001b[1;33m=\u001b[0m\u001b[1;32mTrue\u001b[0m\u001b[1;33m\u001b[0m\u001b[0m\n",
      "\u001b[1;31mTypeError\u001b[0m: 'int' object is not iterable"
     ]
    }
   ],
   "source": [
    "search=2\n",
    "mylist=[1,2,3,4,5,6]\n",
    "position=len(mylist)+1\n",
    "last=0\n",
    "found=False\n",
    "for position in len(mylist)+1:\n",
    "    if mylist[position]==search:\n",
    "        found=True\n",
    "    else:\n",
    "        position=position+1\n",
    "    if found:\n",
    "        print(\"Found the search number.\")\n",
    "        print(position)\n",
    "    else:\n",
    "        print(\"Did not find the search number.\")"
   ]
  },
  {
   "cell_type": "code",
   "execution_count": null,
   "metadata": {},
   "outputs": [],
   "source": [
    "search= 2\n",
    "mylist= [1,2,3,4,5,6]\n",
    "position= len(mylist)-6\n",
    "last=6\n",
    "found=False\n",
    "while position=>last and not found:\n",
    "    if mylist[position]==search:\n",
    "        found=True\n",
    "        else:\n",
    "            position=position-6\n",
    "if found:\n",
    "    print (\"Found the seacrh number.\")\n",
    "    print (position)\n",
    "else:\n",
    "    print (\"Did not find the search number.\")"
   ]
  },
  {
   "cell_type": "code",
   "execution_count": 42,
   "metadata": {},
   "outputs": [
    {
     "name": "stdout",
     "output_type": "stream",
     "text": [
      "Did not find the search number.\n"
     ]
    }
   ],
   "source": [
    "search= 1\n",
    "mylist= [1,2,3,4,5,6]\n",
    "position=len(mylist)+1\n",
    "first=0\n",
    "last=len(mylist)-1\n",
    "found=False\n",
    "while position <= last and not found:\n",
    "    middle=(first+last)//2\n",
    "    if mylist[middle]==search:\n",
    "        found=True\n",
    "    else:\n",
    "        if seacrh < mylist[middle]:\n",
    "            last=middle-1\n",
    "        else:\n",
    "            first=middle+1\n",
    "if found:\n",
    "    print (\"Found the seacrh number.\")\n",
    "    print (middle)\n",
    "else:\n",
    "    print (\"Did not find the search number.\")"
   ]
  },
  {
   "cell_type": "code",
   "execution_count": 44,
   "metadata": {},
   "outputs": [
    {
     "name": "stdout",
     "output_type": "stream",
     "text": [
      "Did not find the search number.\n"
     ]
    }
   ],
   "source": [
    "search= 12\n",
    "mylist= [4,2,5,6,7,1,3,8,11,9,10,14,12,15,17,18,13,16,19,22,20,23,21,]\n",
    "position=len(mylist)+1\n",
    "first=0\n",
    "last=len(mylist)-1\n",
    "iterasi=0\n",
    "found=False\n",
    "while position <= last and not found:\n",
    "    iterasi+=1\n",
    "    middle=(first+last)//2\n",
    "    if mylist[middle]==search:\n",
    "        found=True\n",
    "    else:\n",
    "        if seacrh < mylist[middle]:\n",
    "            last=middle-1\n",
    "        else:\n",
    "            first=middle+1\n",
    "if found:\n",
    "    print (\"Found the seacrh number.\")\n",
    "    print (middle)\n",
    "else:\n",
    "    print (\"Did not find the search number.\")"
   ]
  },
  {
   "cell_type": "code",
   "execution_count": null,
   "metadata": {},
   "outputs": [],
   "source": []
  }
 ],
 "metadata": {
  "kernelspec": {
   "display_name": "Python 3",
   "language": "python",
   "name": "python3"
  },
  "language_info": {
   "codemirror_mode": {
    "name": "ipython",
    "version": 3
   },
   "file_extension": ".py",
   "mimetype": "text/x-python",
   "name": "python",
   "nbconvert_exporter": "python",
   "pygments_lexer": "ipython3",
   "version": "3.6.5"
  }
 },
 "nbformat": 4,
 "nbformat_minor": 2
}
