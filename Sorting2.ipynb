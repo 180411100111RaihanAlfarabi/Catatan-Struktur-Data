{
 "cells": [
  {
   "cell_type": "code",
   "execution_count": 2,
   "metadata": {},
   "outputs": [
    {
     "name": "stdout",
     "output_type": "stream",
     "text": [
      "[12, 1, 4, 6, 5, 7, 10, 14]\n"
     ]
    }
   ],
   "source": [
    "#insertion sort\n",
    "\n",
    "angka=[12,1,4,6,5,7,10,14]\n",
    "def InsertionSort(val):\n",
    "   for index in range(1,len(val)):\n",
    "    \n",
    "    valueaktif = val[index]\n",
    "    position = index\n",
    " \n",
    "    while position>0 and val[position-1]>valueaktif:\n",
    "        val[position]=val[position-1]\n",
    "        position = position-1\n",
    "        val[position]=valueaktif\n",
    "     \n",
    "    InsertionSort(angka)\n",
    "print(angka)\n",
    "\n"
   ]
  },
  {
   "cell_type": "code",
   "execution_count": 9,
   "metadata": {},
   "outputs": [
    {
     "name": "stdout",
     "output_type": "stream",
     "text": [
      "[1, 12, 4, 6, 5, 7, 10, 14]\n",
      "[1, 4, 12, 6, 5, 7, 10, 14]\n",
      "[1, 4, 6, 12, 5, 7, 10, 14]\n",
      "[1, 4, 5, 6, 12, 7, 10, 14]\n",
      "[1, 4, 5, 6, 7, 12, 10, 14]\n",
      "[1, 4, 5, 6, 7, 10, 12, 14]\n",
      "[1, 4, 5, 6, 7, 10, 12, 14]\n",
      "[1, 4, 5, 6, 7, 10, 12, 14]\n"
     ]
    }
   ],
   "source": [
    "angka=[12,1,4,6,5,7,10,14]\n",
    "def insertionsort(angka):\n",
    "    for i in range(1,len(angka)):\n",
    "        value=angka[i]\n",
    "        while i>0 and angka[i-1]>value:\n",
    "            angka[i]=angka[i-1]\n",
    "            i=i-1\n",
    "            angka[i]=value\n",
    "        print(angka)\n",
    "    return angka\n",
    "print(insertionsort([12,1,4,6,5,7,10,14]))\n"
   ]
  },
  {
   "cell_type": "code",
   "execution_count": 11,
   "metadata": {},
   "outputs": [
    {
     "name": "stdout",
     "output_type": "stream",
     "text": [
      "[1, 2, 5, 8, 10, 20, 31]\n"
     ]
    }
   ],
   "source": [
    "#Quicksort\n",
    "def quicksortAwal(A):\n",
    "    quicksort(A,0,len(A)-1)\n",
    "    \n",
    "def quicksort(A,start,end):\n",
    "    if start<end:\n",
    "        pIndex=partition(A,start,end)\n",
    "        quicksort(A,start,pIndex-1)\n",
    "        quicksort(A,pIndex+1,end)\n",
    "def partition(A,start,end):\n",
    "    pivot=A[end]\n",
    "    pIndex=start\n",
    "    for i in range(start,end):\n",
    "        if(A[i])<=pivot:\n",
    "            A[i],A[pIndex]=A[pIndex],A[i]\n",
    "            pIndex=pIndex+1\n",
    "    A[pIndex],A[end]=A[end],A[pIndex]\n",
    "    return pIndex\n",
    "A=[5,8,2,1,10,20,31]\n",
    "quicksortAwal(A)\n",
    "print(A)\n"
   ]
  },
  {
   "cell_type": "code",
   "execution_count": null,
   "metadata": {},
   "outputs": [],
   "source": []
  }
 ],
 "metadata": {
  "kernelspec": {
   "display_name": "Python 3",
   "language": "python",
   "name": "python3"
  },
  "language_info": {
   "codemirror_mode": {
    "name": "ipython",
    "version": 3
   },
   "file_extension": ".py",
   "mimetype": "text/x-python",
   "name": "python",
   "nbconvert_exporter": "python",
   "pygments_lexer": "ipython3",
   "version": "3.6.5"
  }
 },
 "nbformat": 4,
 "nbformat_minor": 2
}
