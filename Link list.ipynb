{
 "cells": [
  {
   "cell_type": "code",
   "execution_count": 10,
   "metadata": {},
   "outputs": [],
   "source": [
    "class Node:\n",
    "    def __init__(self,initdata):\n",
    "        self.data=initdata\n",
    "        self.next=None\n",
    "    \n",
    "    def getData(self):\n",
    "        return self.data\n",
    "    def getNext(self):\n",
    "        return self.next\n",
    "    def setData(self,newdata):\n",
    "        self.data=newdata\n",
    "    def setNext(self,newnext):\n",
    "        self.next=newnext"
   ]
  },
  {
   "cell_type": "code",
   "execution_count": 18,
   "metadata": {},
   "outputs": [
    {
     "name": "stdout",
     "output_type": "stream",
     "text": [
      "Head->17->77->31->None\n",
      "Head->54->26->17->77->31->None\n"
     ]
    }
   ],
   "source": [
    "class Node:\n",
    "    def __init__(self,initdata):\n",
    "        self.data=initdata\n",
    "        self.next=None\n",
    "    \n",
    "    def getData(self):\n",
    "        return self.data\n",
    "    def getNext(self):\n",
    "        return self.next\n",
    "    def setData(self,newdata):\n",
    "        self.data=newdata\n",
    "    def setNext(self,newnext):\n",
    "        self.next=newnext\n",
    "        \n",
    "\n",
    "class UnorderedList:\n",
    "    def __init__(self):\n",
    "        self.head=None\n",
    "    def show(self):\n",
    "        current=self.head\n",
    "        print('Head->', end=\"\")\n",
    "        while current != None:\n",
    "            print(current.getData(),end=\"->\")\n",
    "            current= current.getNext()\n",
    "        print('None')\n",
    "    def isEmpty(self):\n",
    "        return self.head==None\n",
    "    def add(self,item):\n",
    "        temp=Node(item)\n",
    "        temp.setNext(self.head)\n",
    "        self.head=temp\n",
    "    def size(self):\n",
    "        current=self.head\n",
    "        count=0\n",
    "        while current!=None:\n",
    "            count=count+1\n",
    "            current=current.getNext()\n",
    "        return count\n",
    "        \n",
    "mylist=UnorderedList()\n",
    "mylist.add(31)\n",
    "mylist.add(77)\n",
    "mylist.add(17)\n",
    "mylist.show()\n",
    "mylist.add(26)\n",
    "mylist.add(54)\n",
    "mylist.show()"
   ]
  },
  {
   "cell_type": "code",
   "execution_count": 6,
   "metadata": {},
   "outputs": [],
   "source": [
    "def add(self,item):\n",
    "    temp=Node(item)\n",
    "    temp.setNext(self.head)\n",
    "    self.head=temp\n",
    "    temp.setPrev(None)\n",
    "    \n",
    "    next=temp.getNext()\n",
    "    if next != None:\n",
    "        next.setPrev(item)\n",
    "    Mylist=UnorderedList()\n",
    "    mylist.add(31)\n",
    "    mylist.add(77)\n",
    "    mylist.add(17)\n",
    "    mylist.show()\n",
    "    mylist.add(26)\n",
    "    mylist.add(54)\n",
    "    Mylist.show()\n",
    "    "
   ]
  },
  {
   "cell_type": "code",
   "execution_count": 1,
   "metadata": {},
   "outputs": [],
   "source": [
    "#Size\n",
    "def size(self):\n",
    "        current=self.head\n",
    "        count=0\n",
    "        while current!=None:\n",
    "            count=count+1\n",
    "            current=current.getNext()\n",
    "        return count"
   ]
  },
  {
   "cell_type": "code",
   "execution_count": 3,
   "metadata": {},
   "outputs": [],
   "source": [
    "#Search\n",
    "def seacrh(self,item):\n",
    "        current=self.head\n",
    "        found= False\n",
    "        while current !=None and not found:\n",
    "            if current.getData()==item:\n",
    "                found=True\n",
    "                print('Data in List')\n",
    "            else:\n",
    "                current=current.getNext()\n",
    "        return found"
   ]
  },
  {
   "cell_type": "code",
   "execution_count": 4,
   "metadata": {},
   "outputs": [],
   "source": [
    "#Remove\n",
    "def remove(self,item):\n",
    "    current=self.head\n",
    "    previous=None\n",
    "    found=False\n",
    "    while not found:\n",
    "        if current.getData()==item:\n",
    "            found=True\n",
    "        else:\n",
    "            previous=current\n",
    "            current=current.getNext()\n",
    "        if previous==None:\n",
    "            self.head=current.getNext()\n",
    "        else:\n",
    "            previous.setNext(current.getNext())\n"
   ]
  },
  {
   "cell_type": "code",
   "execution_count": 14,
   "metadata": {},
   "outputs": [
    {
     "name": "stdout",
     "output_type": "stream",
     "text": [
      "Head->17->77->31->17->77->31->17->77->31->54->26->17->77->31->54->26->17->77->31->54->26->17->77->31->54->26->17->77->31->None\n"
     ]
    }
   ],
   "source": [
    "#Double Link List\n",
    "class Node:\n",
    "    def __init__(self,initdata):\n",
    "        self.data=initdata\n",
    "        self.next=None\n",
    "    \n",
    "    def getData(self):\n",
    "        return self.data\n",
    "    def getNext(self):\n",
    "        return self.next\n",
    "    def setData(self,newdata):\n",
    "        self.data=newdata\n",
    "    def setNext(self,newnext):\n",
    "        self.next=newnext\n",
    "    def setPrev\n",
    "        \n",
    "class UnorderedList:\n",
    "    def __init__(self):\n",
    "        self.head=None\n",
    "    def show(self):\n",
    "        current=self.head\n",
    "        print('Head->', end=\"\")\n",
    "        while current != None:\n",
    "            if current.getNext()==None:\n",
    "                print(current.getData(),end=\"->\")\n",
    "            else:\n",
    "                print(current.getData(),end=\"<->\")\n",
    "            current= current.getNext()\n",
    "        print('None')\n",
    "    def add(self,item):\n",
    "        temp=Node(item)\n",
    "        temp.setNext(self.head)\n",
    "        self.head=temp\n",
    "        temp.setPrev(None)\n",
    "        next=temp.getNext()\n",
    "        if next != None:\n",
    "            next.setPrev(item)\n",
    "        self.head=temp\n",
    "    \n",
    "    Mylist=UnorderedList()\n",
    "    mylist.add(31)\n",
    "    mylist.add(77)\n",
    "    mylist.add(17)\n",
    "    mylist.show()"
   ]
  },
  {
   "cell_type": "code",
   "execution_count": null,
   "metadata": {},
   "outputs": [],
   "source": []
  }
 ],
 "metadata": {
  "kernelspec": {
   "display_name": "Python 3",
   "language": "python",
   "name": "python3"
  },
  "language_info": {
   "codemirror_mode": {
    "name": "ipython",
    "version": 3
   },
   "file_extension": ".py",
   "mimetype": "text/x-python",
   "name": "python",
   "nbconvert_exporter": "python",
   "pygments_lexer": "ipython3",
   "version": "3.6.5"
  }
 },
 "nbformat": 4,
 "nbformat_minor": 2
}
