{
 "cells": [
  {
   "cell_type": "code",
   "execution_count": 1,
   "metadata": {},
   "outputs": [
    {
     "name": "stdout",
     "output_type": "stream",
     "text": [
      "Semua tetangga dari vertex a: ['b', 'd']\n",
      "Semua tetangga dari vertex d: ['a', 'b', 'c']\n",
      "\n",
      "Menampilkan semua vertex dan tetangganya masing-masing\n",
      "a : ['b', 'd']\n",
      "b : ['a', 'd']\n",
      "c : ['d']\n",
      "d : ['a', 'b', 'c']\n"
     ]
    }
   ],
   "source": [
    "#Graph\n",
    "\n",
    "#list of lists\n",
    "adjLists=[[\"b\",\"d\"],[\"a\",\"d\"],[\"d\"],[\"a\",\"b\",\"c\"]]\n",
    "node=[\"a\",\"b\",\"c\",\"d\"]\n",
    "\n",
    "print(\"Semua tetangga dari vertex a:\",adjLists[0])\n",
    "print(\"Semua tetangga dari vertex d:\",adjLists[3])\n",
    "\n",
    "print(\"\\nMenampilkan semua vertex dan tetangganya masing-masing\")\n",
    "n=len(adjLists)\n",
    "for n in range(0,n):\n",
    "    print(node[n],\":\",adjLists[n])"
   ]
  },
  {
   "cell_type": "code",
   "execution_count": 5,
   "metadata": {},
   "outputs": [
    {
     "name": "stdout",
     "output_type": "stream",
     "text": [
      "Semua tetangga dari vertex indeks ke a:  ['b', 'd']\n",
      "Semua tetangga dari vertex indeks ke d:  ['a', 'b', 'c']\n",
      "\n",
      "Menampilkan semua vertex dan tetangganya masing-masing\n",
      "a : ['b', 'd']\n",
      "b : ['a', 'd']\n",
      "c : ['d']\n",
      "d : ['a', 'b', 'c']\n"
     ]
    }
   ],
   "source": [
    "adjLists_dict={}\n",
    "#insert(vertex,list)pairs into dictionary\n",
    "adjLists_dict={\"a\":[\"b\",\"d\"],\n",
    "               \"b\":[\"a\",\"d\"],\n",
    "               \"c\":[\"d\"],\n",
    "               \"d\":[\"a\",\"b\",\"c\"],\n",
    "               }\n",
    "\n",
    "print(\"Semua tetangga dari vertex indeks ke a: \",adjLists_dict[\"a\"])\n",
    "print(\"Semua tetangga dari vertex indeks ke d: \",adjLists_dict[\"d\"])\n",
    "print(\"\\nMenampilkan semua vertex dan tetangganya masing-masing\")\n",
    "for node in adjLists_dict:\n",
    "    print(node,\":\",adjLists_dict[node])"
   ]
  },
  {
   "cell_type": "code",
   "execution_count": 7,
   "metadata": {},
   "outputs": [
    {
     "name": "stdout",
     "output_type": "stream",
     "text": [
      "adjacency list dari vertex 0\n",
      " head->3->1\n",
      "\n",
      "adjacency list dari vertex 1\n",
      " head->3->0\n",
      "\n",
      "adjacency list dari vertex 2\n",
      " head->3\n",
      "\n",
      "adjacency list dari vertex 3\n",
      " head->2->1->0\n",
      "\n"
     ]
    }
   ],
   "source": [
    "class adjNode:\n",
    "    def __init__(self,data):\n",
    "        self.vertex=data\n",
    "        self.next=None\n",
    "        \n",
    "class Graph:\n",
    "    def __init__(self,vertices):\n",
    "        self.V = vertices\n",
    "        self.graph=[None]*self.V\n",
    "        \n",
    "    def add_edge(self,src,dest):\n",
    "        node=adjNode(dest)\n",
    "        node.next=self.graph[src]\n",
    "        self.graph[src]=node\n",
    "        node=adjNode(src)\n",
    "        node.next=self.graph[dest]\n",
    "        self.graph[dest]=node\n",
    "        \n",
    "    def print_graph(self):\n",
    "        for i in range(self.V):\n",
    "            print(\"adjacency list dari vertex {}\\n head\".format(i),end=\"\")\n",
    "            temp=self.graph[i]\n",
    "            while temp:\n",
    "                print(\"->{}\".format(temp.vertex),end=\"\")\n",
    "                temp=temp.next\n",
    "            print(\"\\n\")\n",
    "if __name__==\"__main__\":\n",
    "    V=4\n",
    "    graph=Graph(V)\n",
    "    graph.add_edge(0,1)\n",
    "    graph.add_edge(0,3)\n",
    "    graph.add_edge(1,3)\n",
    "    graph.add_edge(2,3)\n",
    "    \n",
    "    graph.print_graph()\n",
    "        \n"
   ]
  },
  {
   "cell_type": "code",
   "execution_count": 2,
   "metadata": {},
   "outputs": [
    {
     "ename": "AttributeError",
     "evalue": "'Graph' object has no attribute 'toString'",
     "output_type": "error",
     "traceback": [
      "\u001b[1;31m---------------------------------------------------------------------------\u001b[0m",
      "\u001b[1;31mAttributeError\u001b[0m                            Traceback (most recent call last)",
      "\u001b[1;32m<ipython-input-2-d6e385200496>\u001b[0m in \u001b[0;36m<module>\u001b[1;34m()\u001b[0m\n\u001b[0;32m     34\u001b[0m \u001b[1;33m\u001b[0m\u001b[0m\n\u001b[0;32m     35\u001b[0m \u001b[1;32mif\u001b[0m \u001b[0m__name__\u001b[0m \u001b[1;33m==\u001b[0m \u001b[1;34m'__main__'\u001b[0m\u001b[1;33m:\u001b[0m\u001b[1;33m\u001b[0m\u001b[0m\n\u001b[1;32m---> 36\u001b[1;33m     \u001b[0mmain\u001b[0m\u001b[1;33m(\u001b[0m\u001b[1;33m)\u001b[0m\u001b[1;33m\u001b[0m\u001b[0m\n\u001b[0m",
      "\u001b[1;32m<ipython-input-2-d6e385200496>\u001b[0m in \u001b[0;36mmain\u001b[1;34m()\u001b[0m\n\u001b[0;32m     31\u001b[0m     \u001b[0mg\u001b[0m\u001b[1;33m.\u001b[0m\u001b[0maddEdge\u001b[0m\u001b[1;33m(\u001b[0m\u001b[1;36m1\u001b[0m\u001b[1;33m,\u001b[0m\u001b[1;36m3\u001b[0m\u001b[1;33m)\u001b[0m\u001b[1;33m\u001b[0m\u001b[0m\n\u001b[0;32m     32\u001b[0m     \u001b[0mg\u001b[0m\u001b[1;33m.\u001b[0m\u001b[0maddEdge\u001b[0m\u001b[1;33m(\u001b[0m\u001b[1;36m2\u001b[0m\u001b[1;33m,\u001b[0m\u001b[1;36m3\u001b[0m\u001b[1;33m)\u001b[0m\u001b[1;33m\u001b[0m\u001b[0m\n\u001b[1;32m---> 33\u001b[1;33m     \u001b[0mg\u001b[0m\u001b[1;33m.\u001b[0m\u001b[0mtoString\u001b[0m\u001b[1;33m(\u001b[0m\u001b[1;33m)\u001b[0m\u001b[1;33m\u001b[0m\u001b[0m\n\u001b[0m\u001b[0;32m     34\u001b[0m \u001b[1;33m\u001b[0m\u001b[0m\n\u001b[0;32m     35\u001b[0m \u001b[1;32mif\u001b[0m \u001b[0m__name__\u001b[0m \u001b[1;33m==\u001b[0m \u001b[1;34m'__main__'\u001b[0m\u001b[1;33m:\u001b[0m\u001b[1;33m\u001b[0m\u001b[0m\n",
      "\u001b[1;31mAttributeError\u001b[0m: 'Graph' object has no attribute 'toString'"
     ]
    }
   ],
   "source": [
    "class Graph(object):\n",
    "    def __init__(self,size):\n",
    "        self.adjMatrix=[]\n",
    "        \n",
    "        for i in range(size):\n",
    "            self.adjMatrix.append([0 for i in range(size)])\n",
    "        self.size=size\n",
    "    def addEdge(self,v1,v2):\n",
    "        if v1 == v2:\n",
    "            print(\"Same vertex%d and %d\"%(v1,v2))\n",
    "        self.adjMatrix[v1][v2]=1\n",
    "        self.adjMatrix[v2][v1]=1\n",
    "    def removeEdge(self,v1,v2):\n",
    "        if self.adjMatrix[v1][v2]==0:\n",
    "            print(\"No edge between %d and %d\" %(v1,v2))\n",
    "            return\n",
    "        self.adjMatrix[v1][v2]=0\n",
    "    def containsEdge(self,v1,v2):\n",
    "        return True if self.adjMatrix[v1][v2]>0 else False\n",
    "    def len(self):\n",
    "        return self.size\n",
    "    def toSpring(self):\n",
    "        for row in self.adjMatrix:\n",
    "            for val in row:\n",
    "                print('{:4}'.format(val),end=\"\")\n",
    "            print()\n",
    "def main():\n",
    "    g=Graph(4)\n",
    "    g.addEdge(0,1)\n",
    "    g.addEdge(0,3)\n",
    "    g.addEdge(1,3)\n",
    "    g.addEdge(2,3)\n",
    "    g.toString()\n",
    "    \n",
    "if __name__ == '__main__':\n",
    "    main()"
   ]
  },
  {
   "cell_type": "code",
   "execution_count": 3,
   "metadata": {},
   "outputs": [],
   "source": [
    "class AdjNode:\n",
    "    def __init__(self, data):\n",
    "        self.vertex=data\n",
    "        self.next=None\n",
    "    def __str__(self):\n",
    "        if (self.next !=None):\n",
    "            return str(self.vertex) +\"=>\" + str(self.next)\n",
    "        else:\n",
    "            return str(self.vertex)\n",
    "\n",
    "class Graph:\n",
    "    def __init__(self, vertices):\n",
    "        self.V=vertices\n",
    "        self.graph=[None] * self.V\n",
    "    def add_edge(self, src, dest):\n",
    "        node = AdjNode(dest)\n",
    "        node.next = self.graph[src]\n",
    "        self.graph[src]=node\n",
    "        node = AdjNode(src)\n",
    "        node.next=self.graph[dest]\n",
    "        self.graph[dest]=node\n",
    "    def print_graph(self):\n",
    "        for i in range(self.V):\n",
    "            print(\"Adjacency list dari vertex {}\\n head\" .format(i), end=\"\")\n",
    "            print(str(self.graph[i]))\n",
    "    def shortest (self,start,end):\n",
    "        shortest_distance=99999999\n",
    "        shortest_link= None\n",
    "        tmp_dest=0\n",
    "        tmp_link=None\n",
    "        for (i, node) in enumerate(self.graph):\n",
    "            n=AdjNode(i)\n",
    "            n.next=node\n",
    "            node=n\n",
    "            tmp_link=None\n",
    "            while node !=None:\n",
    "                if (node.vertex == start):\n",
    "                    tmp_dest=1\n",
    "                    tmp_link=node\n",
    "                elif (node.vertex == end):\n",
    "                    if (tmp_link != None and tmp_dest +1 < shortest_distance):\n",
    "                        shortest_distance = tmp_dest\n",
    "                        shortest_link = tmp_link\n",
    "                    tmp_link=None\n",
    "                elif (tmp_link != None):\n",
    "                    tmp_dest +=1\n",
    "                node = node.next\n",
    "\n",
    "        realnode = AdjNode(shortest_link.vertext)\n",
    "        node= realnode\n",
    "        Copynode= shortest_link\n",
    "        for i in range(shortest_distance):\n",
    "            Copynode=Copynode.next\n",
    "            if (Copynode !=None):\n",
    "                node.next = AdjNode(Copynode.vertex)\n",
    "                node=node.next\n",
    "        return realnode\n",
    "\n",
    "if __name__ == \" __main__\":\n",
    "    V=4\n",
    "    g=Graph(V)\n",
    "    g.add_edge(0, 1)\n",
    "    g.add_edge(0, 3)\n",
    "    g.add_edge(1, 3)\n",
    "    g.add_edge(2, 3)\n",
    "    g.print_graph()\n",
    "    print(\"Terpendek 3 ke 1:\", str(g.shortest(3,1)))\n"
   ]
  },
  {
   "cell_type": "code",
   "execution_count": null,
   "metadata": {},
   "outputs": [],
   "source": []
  }
 ],
 "metadata": {
  "kernelspec": {
   "display_name": "Python 3",
   "language": "python",
   "name": "python3"
  },
  "language_info": {
   "codemirror_mode": {
    "name": "ipython",
    "version": 3
   },
   "file_extension": ".py",
   "mimetype": "text/x-python",
   "name": "python",
   "nbconvert_exporter": "python",
   "pygments_lexer": "ipython3",
   "version": "3.6.5"
  }
 },
 "nbformat": 4,
 "nbformat_minor": 2
}
