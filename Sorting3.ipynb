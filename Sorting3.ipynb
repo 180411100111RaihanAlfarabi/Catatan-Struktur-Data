{
 "cells": [
  {
   "cell_type": "code",
   "execution_count": 2,
   "metadata": {},
   "outputs": [
    {
     "name": "stdout",
     "output_type": "stream",
     "text": [
      "[54, 26, 93, 17, 99, 77, 31, 44, 55, 20, 100]\n"
     ]
    }
   ],
   "source": [
    "#Merged Sort\n",
    "def MergedSort(A):\n",
    "    n=len(A)\n",
    "    if (n<2):\n",
    "        return\n",
    "        mid=len(A)//2\n",
    "        left=A[:mid]\n",
    "        right=A[mid:]\n",
    "        MergedSort(left)\n",
    "        MergedSort(right)\n",
    "        i=0\n",
    "        j=0\n",
    "        k=0\n",
    "        while i < len(left) and j < len(right):\n",
    "            if left[i]<right[j]:\n",
    "                A[k]=left[i]\n",
    "                i=i+1\n",
    "            else:\n",
    "                A[k]=right[j]\n",
    "                j=j+1\n",
    "            k=k+1\n",
    "        while i<len(left):\n",
    "                a[k]=left[i]\n",
    "                i=i+1\n",
    "                k=k+1\n",
    "        while j<len(right):\n",
    "                A[k]=right[j]\n",
    "                j=j+1\n",
    "                k=k+1\n",
    "Alist=[54,26,93,17,99,77,31,44,55,20,100]\n",
    "MergedSort(Alist)\n",
    "print(Alist)"
   ]
  },
  {
   "cell_type": "code",
   "execution_count": null,
   "metadata": {},
   "outputs": [],
   "source": []
  },
  {
   "cell_type": "code",
   "execution_count": 1,
   "metadata": {},
   "outputs": [
    {
     "name": "stdout",
     "output_type": "stream",
     "text": [
      "After increments of size 4 The list is [14, 41, 43, 21, 57, 46, 45, 27, 70]\n",
      "After increments of size 2 The list is [14, 21, 43, 27, 45, 41, 57, 46, 70]\n",
      "After increments of size 1 The list is [14, 21, 27, 41, 43, 45, 46, 57, 70]\n",
      "[14, 21, 27, 41, 43, 45, 46, 57, 70]\n"
     ]
    }
   ],
   "source": [
    "def shellSort(alist):\n",
    "    sublistcount = len(alist)//2\n",
    "    while sublistcount > 0:\n",
    "      for start_position in range(sublistcount):\n",
    "        gap_InsertionSort(alist, start_position, sublistcount)\n",
    "\n",
    "      print(\"After increments of size\",sublistcount, \"The list is\",nlist)\n",
    "\n",
    "      sublistcount = sublistcount // 2\n",
    "\n",
    "def gap_InsertionSort(nlist,start,gap):\n",
    "    for i in range(start+gap,len(nlist),gap):\n",
    "\n",
    "        current_value = nlist[i]\n",
    "        position = i\n",
    "\n",
    "        while position>=gap and nlist[position-gap]>current_value:\n",
    "            nlist[position]=nlist[position-gap]\n",
    "            position = position-gap\n",
    "\n",
    "        nlist[position]=current_value\n",
    "\n",
    "\n",
    "nlist = [14,46,43,27,57,41,45,21,70]\n",
    "shellSort(nlist)\n",
    "print(nlist)"
   ]
  },
  {
   "cell_type": "code",
   "execution_count": null,
   "metadata": {},
   "outputs": [],
   "source": []
  }
 ],
 "metadata": {
  "kernelspec": {
   "display_name": "Python 3",
   "language": "python",
   "name": "python3"
  },
  "language_info": {
   "codemirror_mode": {
    "name": "ipython",
    "version": 3
   },
   "file_extension": ".py",
   "mimetype": "text/x-python",
   "name": "python",
   "nbconvert_exporter": "python",
   "pygments_lexer": "ipython3",
   "version": "3.6.5"
  }
 },
 "nbformat": 4,
 "nbformat_minor": 2
}
