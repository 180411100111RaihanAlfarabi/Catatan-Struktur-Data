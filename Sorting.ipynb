{
 "cells": [
  {
   "cell_type": "code",
   "execution_count": 11,
   "metadata": {},
   "outputs": [
    {
     "name": "stdout",
     "output_type": "stream",
     "text": [
      "a= [1, 2, 3, 5, 8]\n"
     ]
    }
   ],
   "source": [
    "a=[5,1,3,2,8]\n",
    "\n",
    "for i in range (len(a)-1,0,-1):\n",
    "    for k in range (i):\n",
    "        if a[k]>a[k+1]:\n",
    "            a[k],a[k+1]=a[k+1],a[k]\n",
    "            \n",
    "print(\"a=\",a)\n",
    "            \n",
    "\n",
    "\n",
    "\n",
    "\n",
    "\n",
    "\n",
    "\n",
    "\n"
   ]
  },
  {
   "cell_type": "code",
   "execution_count": 1,
   "metadata": {},
   "outputs": [
    {
     "name": "stdout",
     "output_type": "stream",
     "text": [
      "a= [1, 2, 3, 5, 8]\n",
      "iterasi sebanyak: 4\n"
     ]
    }
   ],
   "source": [
    "a=[5,1,3,2,8]\n",
    "iterasi=0\n",
    "for i in range (len(a)-1,0,-1):\n",
    "    iterasi+=1\n",
    "    for k in range (i):\n",
    "        if a[k]>a[k+1]:\n",
    "            a[k],a[k+1]=a[k+1],a[k]\n",
    "            \n",
    "print(\"a=\",a)\n",
    "print(\"iterasi sebanyak:\",iterasi)            \n",
    "\n"
   ]
  },
  {
   "cell_type": "code",
   "execution_count": 2,
   "metadata": {},
   "outputs": [
    {
     "name": "stdout",
     "output_type": "stream",
     "text": [
      "a= [1, 5, 3, 2, 8]\n",
      "a= [1, 5, 3, 2, 8]\n",
      "a= [1, 5, 3, 2, 8]\n",
      "a= [1, 5, 3, 2, 8]\n",
      "a= [1, 5, 3, 2, 8]\n",
      "a= [1, 3, 5, 2, 8]\n",
      "a= [1, 3, 5, 2, 8]\n",
      "a= [1, 3, 5, 2, 8]\n",
      "a= [1, 3, 5, 2, 8]\n",
      "a= [1, 2, 5, 3, 8]\n",
      "a= [1, 2, 3, 5, 8]\n",
      "a= [1, 2, 3, 5, 8]\n",
      "a= [1, 2, 3, 5, 8]\n",
      "a= [1, 2, 3, 5, 8]\n",
      "a= [1, 2, 3, 5, 8]\n",
      "a= [1, 2, 3, 5, 8]\n",
      "16\n"
     ]
    }
   ],
   "source": [
    "a=[5,1,3,2,8]\n",
    "iterasi=0\n",
    "for i in range (1,len(a)):\n",
    "    imin=i\n",
    "    for k in range (0,len(a)-1):\n",
    "        iterasi+=1\n",
    "        if a[k]>a[imin]:\n",
    "            imin=k\n",
    "        temp=a[i]\n",
    "        a[i]=a[imin]\n",
    "        a[imin]=temp\n",
    "\n",
    "        print(\"a=\",a)\n",
    "print(iterasi)\n",
    "            \n",
    "            \n",
    "            \n",
    "            \n",
    "            "
   ]
  },
  {
   "cell_type": "code",
   "execution_count": 67,
   "metadata": {},
   "outputs": [
    {
     "name": "stdout",
     "output_type": "stream",
     "text": [
      "[5, 4, 2, 6, 8]\n",
      "[2, 4, 5, 6, 8]\n",
      "[2, 4, 5, 6, 8]\n",
      "[2, 4, 5, 6, 8]\n",
      "[2, 4, 5, 6, 8]\n",
      "[2, 4, 5, 6, 8]\n",
      "[2, 4, 5, 6, 8]\n",
      "[2, 4, 5, 6, 8]\n",
      "[2, 4, 5, 6, 8]\n",
      "[2, 4, 5, 6, 8]\n"
     ]
    }
   ],
   "source": [
    "I=[5,4,2,6,8]\n",
    "for i in range(len(I)):\n",
    "    print(I)\n",
    "    max_ind=i\n",
    "    for k in range((i+1),len(I)):\n",
    "        if I[k]<I[max_ind]:\n",
    "            max_ind=k\n",
    "    I[i],I[max_ind]=I[max_ind],I[i]\n",
    "    print(I)\n",
    "\n",
    "\n"
   ]
  },
  {
   "cell_type": "code",
   "execution_count": null,
   "metadata": {},
   "outputs": [],
   "source": []
  }
 ],
 "metadata": {
  "kernelspec": {
   "display_name": "Python 3",
   "language": "python",
   "name": "python3"
  },
  "language_info": {
   "codemirror_mode": {
    "name": "ipython",
    "version": 3
   },
   "file_extension": ".py",
   "mimetype": "text/x-python",
   "name": "python",
   "nbconvert_exporter": "python",
   "pygments_lexer": "ipython3",
   "version": "3.6.5"
  }
 },
 "nbformat": 4,
 "nbformat_minor": 2
}
